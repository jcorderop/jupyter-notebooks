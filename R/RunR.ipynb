{
  "cells": [
    {
      "cell_type": "markdown",
      "source": [
        "Install R packages\r\n",
        "There are many R packages pre-installed on the compute instance.\r\n",
        "\r\n",
        "When you want to install other packages, you'll need to explicitly state the location and dependencies.\r\n",
        "\r\n",
        "Tip\r\n",
        "\r\n",
        "When you create or use a different compute instance, you'll need to again install any packages you've installed.\r\n",
        "\r\n",
        "For example, to install the tsibble package:\r\n",
        "\r\n",
        "Note\r\n",
        "\r\n",
        "Since you are installing packages within an R session running in a Jupyter notebook, dependencies = TRUE is required. Otherwise, dependent packages will not be automatically installed. The lib location is also required to install in the correct compute instance location."
      ],
      "metadata": {
        "nteract": {
          "transient": {
            "deleting": false
          }
        }
      }
    },
    {
      "cell_type": "code",
      "source": [
        "install.packages(\"tsibble\", \r\n",
        "                 dependencies = TRUE,\r\n",
        "                 lib = \"/home/azureuser\")\r\n",
        "\r\n",
        "install.packages(\"reshape2\", \r\n",
        "                 dependencies = TRUE,\r\n",
        "                 lib = \"/home/azureuser\")"
      ],
      "outputs": [],
      "execution_count": 1,
      "metadata": {
        "gather": {
          "logged": 1678743427782
        }
      }
    },
    {
      "cell_type": "markdown",
      "source": [
        "Load R libraries\r\n",
        "Add /home/azureuser to the R library path."
      ],
      "metadata": {
        "nteract": {
          "transient": {
            "deleting": false
          }
        }
      }
    },
    {
      "cell_type": "code",
      "source": [
        ".libPaths(\"/home/azureuser\")\r\n"
      ],
      "outputs": [],
      "execution_count": 2,
      "metadata": {
        "jupyter": {
          "source_hidden": false,
          "outputs_hidden": false
        },
        "nteract": {
          "transient": {
            "deleting": false
          }
        },
        "gather": {
          "logged": 1678743427869
        }
      }
    },
    {
      "cell_type": "markdown",
      "source": [
        " Tip\r\n",
        "\r\n",
        "You need to update the .libPaths in each interactive R script to access user installed libraries. Add this code to the top of each interactive R script or notebook.\r\n",
        "\r\n",
        "Once the libPath is updated, load libraries as usual"
      ],
      "metadata": {
        "nteract": {
          "transient": {
            "deleting": false
          }
        }
      }
    },
    {
      "cell_type": "code",
      "source": [
        "library('tsibble')\r\n",
        "library('reshape2')"
      ],
      "outputs": [
        {
          "output_type": "stream",
          "name": "stderr",
          "text": "\nAttaching package: ‘tsibble’\n\n\nThe following objects are masked from ‘package:base’:\n\n    intersect, setdiff, union\n\n\n"
        }
      ],
      "execution_count": 3,
      "metadata": {
        "jupyter": {
          "source_hidden": false,
          "outputs_hidden": false
        },
        "nteract": {
          "transient": {
            "deleting": false
          }
        },
        "gather": {
          "logged": 1678743428538
        }
      }
    },
    {
      "cell_type": "code",
      "source": [
        "# create a sample data frame\r\n",
        "df <- data.frame(\r\n",
        "  id = c(1, 2, 3),\r\n",
        "  name = c(\"Alice\", \"Bob\", \"Charlie\"),\r\n",
        "  score1 = c(90, 85, 95),\r\n",
        "  score2 = c(80, 95, 90)\r\n",
        ")\r\n",
        "\r\n",
        "# melt the data frame to convert it from wide to long format\r\n",
        "melted <- melt(df, id.vars = c(\"id\", \"name\"))\r\n",
        "\r\n",
        "# use dcast to reshape the data frame back to wide format\r\n",
        "wide <- dcast(melted, id + name ~ variable, value.var = \"value\")\r\n",
        "\r\n",
        "#display \r\n",
        "wide"
      ],
      "outputs": [
        {
          "output_type": "display_data",
          "data": {
            "text/html": "<table class=\"dataframe\">\n<caption>A data.frame: 3 × 4</caption>\n<thead>\n\t<tr><th scope=col>id</th><th scope=col>name</th><th scope=col>score1</th><th scope=col>score2</th></tr>\n\t<tr><th scope=col>&lt;dbl&gt;</th><th scope=col>&lt;chr&gt;</th><th scope=col>&lt;dbl&gt;</th><th scope=col>&lt;dbl&gt;</th></tr>\n</thead>\n<tbody>\n\t<tr><td>1</td><td>Alice  </td><td>90</td><td>80</td></tr>\n\t<tr><td>2</td><td>Bob    </td><td>85</td><td>95</td></tr>\n\t<tr><td>3</td><td>Charlie</td><td>95</td><td>90</td></tr>\n</tbody>\n</table>\n",
            "text/markdown": "\nA data.frame: 3 × 4\n\n| id &lt;dbl&gt; | name &lt;chr&gt; | score1 &lt;dbl&gt; | score2 &lt;dbl&gt; |\n|---|---|---|---|\n| 1 | Alice   | 90 | 80 |\n| 2 | Bob     | 85 | 95 |\n| 3 | Charlie | 95 | 90 |\n\n",
            "text/latex": "A data.frame: 3 × 4\n\\begin{tabular}{llll}\n id & name & score1 & score2\\\\\n <dbl> & <chr> & <dbl> & <dbl>\\\\\n\\hline\n\t 1 & Alice   & 90 & 80\\\\\n\t 2 & Bob     & 85 & 95\\\\\n\t 3 & Charlie & 95 & 90\\\\\n\\end{tabular}\n",
            "text/plain": "  id name    score1 score2\n1 1  Alice   90     80    \n2 2  Bob     85     95    \n3 3  Charlie 95     90    "
          },
          "metadata": {}
        }
      ],
      "execution_count": 6,
      "metadata": {
        "jupyter": {
          "source_hidden": false,
          "outputs_hidden": false
        },
        "nteract": {
          "transient": {
            "deleting": false
          }
        },
        "gather": {
          "logged": 1678743719158
        }
      }
    }
  ],
  "metadata": {
    "kernelspec": {
      "name": "ir",
      "language": "R",
      "display_name": "R"
    },
    "language_info": {
      "name": "R",
      "codemirror_mode": "r",
      "pygments_lexer": "r",
      "mimetype": "text/x-r-source",
      "file_extension": ".r",
      "version": "4.2.2"
    },
    "microsoft": {
      "ms_spell_check": {
        "ms_spell_check_language": "en"
      },
      "host": {
        "AzureML": {
          "notebookHasBeenCompleted": true
        }
      }
    },
    "kernel_info": {
      "name": "ir"
    },
    "nteract": {
      "version": "nteract-front-end@1.0.0"
    }
  },
  "nbformat": 4,
  "nbformat_minor": 2
}