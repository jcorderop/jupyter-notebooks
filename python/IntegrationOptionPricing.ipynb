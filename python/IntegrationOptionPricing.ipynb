{
 "cells": [
  {
   "cell_type": "markdown",
   "source": [
    "Integration to get Crypto Prices from Exchange"
   ],
   "metadata": {
    "nteract": {
     "transient": {
      "deleting": false
     }
    }
   }
  },
  {
   "cell_type": "code",
   "source": [
    "import requests\n",
    "\n",
    "url = \"https://python-exchange.azurewebsites.net/api/rest/option_prices\"\n",
    "headers = {\n",
    "    \"Content-Type\": \"application/json\"\n",
    "}\n",
    "\n",
    "def request_option_price(stock, expiry, opt_type):\n",
    "    params = {\n",
    "        \"stock\": stock, # \"AMZN\" \"META\" \"IBM\" \"GOOG\"\n",
    "        \"expiry\": expiry,\n",
    "        \"opt_type\": opt_type\n",
    "    }\n",
    "\n",
    "    response = requests.get(url, headers=headers, params=params)\n",
    "\n",
    "    if response.status_code == 200:\n",
    "        data = response.json()\n",
    "        if data:\n",
    "            return data.get('option_price', 0.0)\n",
    "            #for key, value in data.items():\n",
    "            #    print(\"{} = {}\".format(key, value))\n",
    "    else:\n",
    "        print(\"Error:\", response.status_code, response.text)\n",
    "\n",
    "\n",
    "option_prices = {}\n",
    "\n",
    "stock = 'META'\n",
    "one_month = 0.0833\n",
    "for m in range(12):\n",
    "    month = m + 1\n",
    "    expiry = one_month * month\n",
    "    option_prices['{}m'.format(month)] = { \n",
    "        'call': request_option_price(stock, expiry, 'call'),\n",
    "        'put': request_option_price(stock, expiry, 'put')\n",
    "    }\n",
    "\n",
    "print('Pricing calculation finished...')\n"
   ],
   "outputs": [
    {
     "output_type": "stream",
     "name": "stdout",
     "text": "Pricing calculation finished...\n"
    }
   ],
   "execution_count": 1,
   "metadata": {
    "jupyter": {
     "source_hidden": false,
     "outputs_hidden": false
    },
    "nteract": {
     "transient": {
      "deleting": false
     }
    },
    "gather": {
     "logged": 1682079155133
    }
   }
  },
  {
   "cell_type": "code",
   "source": [
    "import numpy as np, pandas as pd\n",
    "\n",
    "table_prices = pd.DataFrame(option_prices)\n",
    "\n",
    "print('Stock: {}'.format(stock))\n",
    "\n",
    "table_prices.T"
   ],
   "outputs": [
    {
     "output_type": "stream",
     "name": "stdout",
     "text": "Stock: META\n"
    },
    {
     "output_type": "execute_result",
     "execution_count": 2,
     "data": {
      "text/plain": "       call     put\n1m   10.167   9.985\n2m   14.183  13.776\n3m   18.703  16.673\n4m   20.491  20.512\n5m   22.452  23.466\n6m   25.371  23.914\n7m   29.770  25.930\n8m   30.000  27.477\n9m   31.314  27.550\n10m  29.943  32.081\n11m  34.140  30.810\n12m  36.041  34.769",
      "text/html": "<div>\n<style scoped>\n    .dataframe tbody tr th:only-of-type {\n        vertical-align: middle;\n    }\n\n    .dataframe tbody tr th {\n        vertical-align: top;\n    }\n\n    .dataframe thead th {\n        text-align: right;\n    }\n</style>\n<table border=\"1\" class=\"dataframe\">\n  <thead>\n    <tr style=\"text-align: right;\">\n      <th></th>\n      <th>call</th>\n      <th>put</th>\n    </tr>\n  </thead>\n  <tbody>\n    <tr>\n      <th>1m</th>\n      <td>10.167</td>\n      <td>9.985</td>\n    </tr>\n    <tr>\n      <th>2m</th>\n      <td>14.183</td>\n      <td>13.776</td>\n    </tr>\n    <tr>\n      <th>3m</th>\n      <td>18.703</td>\n      <td>16.673</td>\n    </tr>\n    <tr>\n      <th>4m</th>\n      <td>20.491</td>\n      <td>20.512</td>\n    </tr>\n    <tr>\n      <th>5m</th>\n      <td>22.452</td>\n      <td>23.466</td>\n    </tr>\n    <tr>\n      <th>6m</th>\n      <td>25.371</td>\n      <td>23.914</td>\n    </tr>\n    <tr>\n      <th>7m</th>\n      <td>29.770</td>\n      <td>25.930</td>\n    </tr>\n    <tr>\n      <th>8m</th>\n      <td>30.000</td>\n      <td>27.477</td>\n    </tr>\n    <tr>\n      <th>9m</th>\n      <td>31.314</td>\n      <td>27.550</td>\n    </tr>\n    <tr>\n      <th>10m</th>\n      <td>29.943</td>\n      <td>32.081</td>\n    </tr>\n    <tr>\n      <th>11m</th>\n      <td>34.140</td>\n      <td>30.810</td>\n    </tr>\n    <tr>\n      <th>12m</th>\n      <td>36.041</td>\n      <td>34.769</td>\n    </tr>\n  </tbody>\n</table>\n</div>"
     },
     "metadata": {}
    }
   ],
   "execution_count": 2,
   "metadata": {
    "jupyter": {
     "source_hidden": false,
     "outputs_hidden": false
    },
    "nteract": {
     "transient": {
      "deleting": false
     }
    },
    "gather": {
     "logged": 1682079155664
    }
   }
  }
 ],
 "metadata": {
  "kernelspec": {
   "name": "python310-sdkv2",
   "language": "python",
   "display_name": "Python 3.10 - SDK v2"
  },
  "language_info": {
   "name": "python",
   "version": "3.10.10",
   "mimetype": "text/x-python",
   "codemirror_mode": {
    "name": "ipython",
    "version": 3
   },
   "pygments_lexer": "ipython3",
   "nbconvert_exporter": "python",
   "file_extension": ".py"
  },
  "microsoft": {
   "ms_spell_check": {
    "ms_spell_check_language": "en"
   },
   "host": {
    "AzureML": {
     "notebookHasBeenCompleted": true
    }
   }
  },
  "kernel_info": {
   "name": "python310-sdkv2"
  },
  "nteract": {
   "version": "nteract-front-end@1.0.0"
  }
 },
 "nbformat": 4,
 "nbformat_minor": 2
}
