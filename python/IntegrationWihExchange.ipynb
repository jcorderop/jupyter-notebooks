{
  "cells": [
    {
      "cell_type": "markdown",
      "source": [
        "Integration to get Crypto Prices from Exchange"
      ],
      "metadata": {
        "nteract": {
          "transient": {
            "deleting": false
          }
        }
      }
    },
    {
      "cell_type": "code",
      "source": [
        "import requests\r\n",
        "import numpy as np, pandas as pd\r\n",
        "\r\n",
        "url = \"https://python-exchange.azurewebsites.net/api/rest/prices\"\r\n",
        "headers = {\r\n",
        "    \"Content-Type\": \"application/json\"\r\n",
        "}\r\n",
        "\r\n",
        "response = requests.get(url, headers=headers)\r\n",
        "\r\n",
        "table_prices = None\r\n",
        "if response.status_code == 200:\r\n",
        "    data = response.json()\r\n",
        "    if data:\r\n",
        "        print(\"Request time: {}\".format(data.get('timestamp', None)))\r\n",
        "\r\n",
        "        prices = data.get('prices', None)\r\n",
        "        if prices:\r\n",
        "            table_prices = pd.DataFrame.from_dict(prices, orient = 'index', columns=['Price'])\r\n",
        "\r\n",
        "else:\r\n",
        "    print(\"Error:\", response.status_code, response.text)\r\n",
        "\r\n",
        "table_prices"
      ],
      "outputs": [
        {
          "output_type": "stream",
          "name": "stdout",
          "text": "Request time: 2023-04-21T12:13:42.926690\n"
        },
        {
          "output_type": "execute_result",
          "execution_count": 1,
          "data": {
            "text/plain": "                  Price\nSOLUSDT     21.94081431\nXRPUSDT      0.46383730\nADAUSDT      0.39806805\nBNBUSDT    326.25510186\nBTCUSDT  28075.48008564\nETHUSDT   1904.06091447",
            "text/html": "<div>\n<style scoped>\n    .dataframe tbody tr th:only-of-type {\n        vertical-align: middle;\n    }\n\n    .dataframe tbody tr th {\n        vertical-align: top;\n    }\n\n    .dataframe thead th {\n        text-align: right;\n    }\n</style>\n<table border=\"1\" class=\"dataframe\">\n  <thead>\n    <tr style=\"text-align: right;\">\n      <th></th>\n      <th>Price</th>\n    </tr>\n  </thead>\n  <tbody>\n    <tr>\n      <th>SOLUSDT</th>\n      <td>21.94081431</td>\n    </tr>\n    <tr>\n      <th>XRPUSDT</th>\n      <td>0.46383730</td>\n    </tr>\n    <tr>\n      <th>ADAUSDT</th>\n      <td>0.39806805</td>\n    </tr>\n    <tr>\n      <th>BNBUSDT</th>\n      <td>326.25510186</td>\n    </tr>\n    <tr>\n      <th>BTCUSDT</th>\n      <td>28075.48008564</td>\n    </tr>\n    <tr>\n      <th>ETHUSDT</th>\n      <td>1904.06091447</td>\n    </tr>\n  </tbody>\n</table>\n</div>"
          },
          "metadata": {}
        }
      ],
      "execution_count": 1,
      "metadata": {
        "jupyter": {
          "source_hidden": false,
          "outputs_hidden": false
        },
        "nteract": {
          "transient": {
            "deleting": false
          }
        },
        "gather": {
          "logged": 1682079223152
        }
      }
    },
    {
      "cell_type": "code",
      "source": [
        "\r\n",
        "\r\n"
      ],
      "outputs": [],
      "execution_count": 2,
      "metadata": {
        "jupyter": {
          "source_hidden": false,
          "outputs_hidden": false
        },
        "nteract": {
          "transient": {
            "deleting": false
          }
        },
        "gather": {
          "logged": 1682079223266
        }
      }
    }
  ],
  "metadata": {
    "kernelspec": {
      "name": "python310-sdkv2",
      "language": "python",
      "display_name": "Python 3.10 - SDK v2"
    },
    "language_info": {
      "name": "python",
      "version": "3.10.10",
      "mimetype": "text/x-python",
      "codemirror_mode": {
        "name": "ipython",
        "version": 3
      },
      "pygments_lexer": "ipython3",
      "nbconvert_exporter": "python",
      "file_extension": ".py"
    },
    "microsoft": {
      "ms_spell_check": {
        "ms_spell_check_language": "en"
      },
      "host": {
        "AzureML": {
          "notebookHasBeenCompleted": true
        }
      }
    },
    "kernel_info": {
      "name": "python310-sdkv2"
    },
    "nteract": {
      "version": "nteract-front-end@1.0.0"
    }
  },
  "nbformat": 4,
  "nbformat_minor": 2
}